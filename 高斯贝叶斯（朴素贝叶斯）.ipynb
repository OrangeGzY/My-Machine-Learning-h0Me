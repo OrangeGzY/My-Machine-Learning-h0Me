{
 "cells": [
  {
   "cell_type": "code",
   "execution_count": 11,
   "metadata": {},
   "outputs": [],
   "source": [
    "import numpy as np\n",
    "import pandas as pd\n",
    "import matplotlib.pyplot as plt\n",
    "from sklearn.datasets import load_iris\n",
    "from sklearn.model_selection import *\n",
    "import math"
   ]
  },
  {
   "cell_type": "code",
   "execution_count": 12,
   "metadata": {},
   "outputs": [],
   "source": [
    "def create_data():\n",
    "    iris = load_iris()\n",
    "    df = pd.DataFrame(iris.data,columns = iris.feature_names)\n",
    "    df['label'] = iris.target\n",
    "    df.columns = ['sepal length', 'sepal width', 'petal length', 'petal width', 'label']\n",
    "    data = np.array(df.iloc[:100,:])   #这里是用的前100行以及所有的特征\n",
    "    return data[:,:-1] , data[:,-1]"
   ]
  },
  {
   "cell_type": "code",
   "execution_count": 13,
   "metadata": {},
   "outputs": [],
   "source": [
    "X,y = create_data()  #数据初始化"
   ]
  },
  {
   "cell_type": "code",
   "execution_count": 15,
   "metadata": {},
   "outputs": [],
   "source": [
    "X_train , X_test , y_train , y_test = train_test_split(X,y,test_size = 0.3)"
   ]
  },
  {
   "cell_type": "code",
   "execution_count": 26,
   "metadata": {},
   "outputs": [
    {
     "data": {
      "text/plain": [
       "array([5. , 3.3, 1.4, 0.2])"
      ]
     },
     "execution_count": 26,
     "metadata": {},
     "output_type": "execute_result"
    }
   ],
   "source": [
    "X_train[0]"
   ]
  },
  {
   "cell_type": "code",
   "execution_count": 22,
   "metadata": {},
   "outputs": [],
   "source": [
    "#接下来主要用到的是高斯朴素贝叶斯。（GNB）实际上就是在对对于连续值进行估计的时候将其近似到一个正态分布，然后用正态分布的相关公式进行计算\n",
    "#还有一个就是拉普拉斯平滑的问题，为了抹去某一类中没有出现的那种情况，防止在做连乘的时候出现概率为零的情况\n",
    "#具体详见西瓜书153页，这一部分比统计学习方法讲的好"
   ]
  },
  {
   "cell_type": "code",
   "execution_count": 37,
   "metadata": {},
   "outputs": [
    {
     "ename": "SyntaxError",
     "evalue": "invalid syntax (<ipython-input-37-2bb6a51f54ec>, line 40)",
     "output_type": "error",
     "traceback": [
      "\u001b[0;36m  File \u001b[0;32m\"<ipython-input-37-2bb6a51f54ec>\"\u001b[0;36m, line \u001b[0;32m40\u001b[0m\n\u001b[0;31m    label = sorted(self.calculate_probabilities(X_test).item(),key = lamada x: x[-1])[-1][0]\u001b[0m\n\u001b[0m                                                                            ^\u001b[0m\n\u001b[0;31mSyntaxError\u001b[0m\u001b[0;31m:\u001b[0m invalid syntax\n"
     ]
    }
   ],
   "source": [
    "class NativeBayes:\n",
    "    def __ini__(self):\n",
    "        self.model = none\n",
    "    \n",
    "    #期望\n",
    "    @staticmethod\n",
    "    def mean(self,X):    \n",
    "        return sum(X)/float(len(X))       # 对X每一行求和并且除以每一行的元素数量\n",
    "    #方差（标准差）\n",
    "    def stdev(self,X):\n",
    "        avg = self.mean(X)\n",
    "        return math.sqrt(sum([pow(x-avg, 2) for x in X]) / float(len(X)))\n",
    "    # 概率密度函数(l在变量为连续型变量时，用正态分布进行估计)\n",
    "    def gaussian_probability(self, x, mean, stdev):\n",
    "        exponent = math.exp(-(math.pow(x-mean,2)/(2*math.pow(stdev,2))))\n",
    "        return (1 / (math.sqrt(2*math.pi) * stdev)) * exponent\n",
    "    def summarize(self,train_data ):\n",
    "        summarize = [(self.mean(i) , self.stdev(i)) for i in zip(*train_data) ]  # 对输入的X_train 调用类方法，计算其平均值和标准差，返回一个tuple对象\n",
    "        return summarize\n",
    "    \n",
    "    #求出数学期望和方差\n",
    "    def fit(self, X ,y):\n",
    "        labels = list(set(y))    #先对y转集合去重，然后把去重后的转list作为label\n",
    "        data = {label:[] for label in labels}  #用字典推导式将标签迭代成键-值对的形式（字典）\n",
    "        for f , label in zip(X,y):      \n",
    "            data[label].append(f)\n",
    "        self.model = {label: self.summarize(value) for label , value in data.items()}\n",
    "        return \"NativeBayes train done !\"\n",
    "    \n",
    "    def calculate_probabilities(self, input_data):\n",
    "        probabilities = {}   #概率用字典， \n",
    "        for label, values in self.model.items():\n",
    "            probabilities[label] = 1\n",
    "            for i in range(len(value)):\n",
    "                mean , stdev = value[i]\n",
    "                probabilities[label] *= self.gaussian_probability(input_data[i] , mean , stdev)\n",
    "        return  probabilities        \n",
    "        \n",
    "    def predict(self, X_test):\n",
    "        label = sorted(self.calculate_probabilities(X_test).items(),key = lamada x: x[-1])[-1][0]\n",
    "        return label\n",
    "    \n",
    "    def score(self,X,y):\n",
    "        right = 0\n",
    "        for X , y in zip(X_test,y_test):\n",
    "            label = self.predict(X,y)\n",
    "            if label == y:\n",
    "                right +=1\n",
    "        return right / float(len(X_test))"
   ]
  },
  {
   "cell_type": "code",
   "execution_count": 38,
   "metadata": {},
   "outputs": [],
   "source": [
    "from sklearn.naive_bayes import GaussianNB"
   ]
  },
  {
   "cell_type": "code",
   "execution_count": 41,
   "metadata": {},
   "outputs": [
    {
     "data": {
      "text/plain": [
       "GaussianNB(priors=None, var_smoothing=1e-09)"
      ]
     },
     "execution_count": 41,
     "metadata": {},
     "output_type": "execute_result"
    }
   ],
   "source": [
    "clf = GaussianNB()\n",
    "clf.fit(X_train, y_train)"
   ]
  },
  {
   "cell_type": "code",
   "execution_count": 43,
   "metadata": {},
   "outputs": [
    {
     "data": {
      "text/plain": [
       "1.0"
      ]
     },
     "execution_count": 43,
     "metadata": {},
     "output_type": "execute_result"
    }
   ],
   "source": [
    "clf.score(X_test,y_test)"
   ]
  },
  {
   "cell_type": "code",
   "execution_count": 47,
   "metadata": {},
   "outputs": [
    {
     "data": {
      "text/plain": [
       "array([0.])"
      ]
     },
     "execution_count": 47,
     "metadata": {},
     "output_type": "execute_result"
    }
   ],
   "source": [
    "p = np.array([[4.4,  3.2,  1.3,  0.2]])\n",
    "clf.predict(p)"
   ]
  },
  {
   "cell_type": "code",
   "execution_count": null,
   "metadata": {},
   "outputs": [],
   "source": []
  }
 ],
 "metadata": {
  "kernelspec": {
   "display_name": "Python 3",
   "language": "python",
   "name": "python3"
  },
  "language_info": {
   "codemirror_mode": {
    "name": "ipython",
    "version": 3
   },
   "file_extension": ".py",
   "mimetype": "text/x-python",
   "name": "python",
   "nbconvert_exporter": "python",
   "pygments_lexer": "ipython3",
   "version": "3.7.3"
  }
 },
 "nbformat": 4,
 "nbformat_minor": 2
}
